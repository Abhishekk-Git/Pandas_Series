{
 "cells": [
  {
   "cell_type": "markdown",
   "id": "f22dcb73",
   "metadata": {},
   "source": [
    "# Pandas\n",
    "\n",
    "Pandas is one of the most important libary for the data analysis. This library consists of severeal methods and property that helps user to explore, modify and help them to draw conclusion. Generally, the data are available in tabular form (most of the time) and with the help of pandas, one can easily play with dataset and analyse it further."
   ]
  },
  {
   "cell_type": "code",
   "execution_count": 2,
   "id": "be69c453",
   "metadata": {},
   "outputs": [],
   "source": [
    "# To work with pandas, we have to first import it with the command.\n",
    "import pandas"
   ]
  },
  {
   "cell_type": "code",
   "execution_count": 3,
   "id": "443a4d5c",
   "metadata": {},
   "outputs": [],
   "source": [
    "# We use alias 'pd' for pandas library\n",
    "import pandas as pd"
   ]
  },
  {
   "cell_type": "markdown",
   "id": "67bcc18b",
   "metadata": {},
   "source": [
    "Alias helps us to shorten the name of any module or library temporarily."
   ]
  },
  {
   "cell_type": "markdown",
   "id": "fd40c512",
   "metadata": {},
   "source": [
    "In pandas, we deal with three form of dataset.\n",
    "- Series: 1-Dimensional\n",
    "- Dataframe: 2-Dimensional (Most Important)\n",
    "- Panel: Multi-Dimensional"
   ]
  },
  {
   "cell_type": "markdown",
   "id": "2a90637a",
   "metadata": {},
   "source": [
    "## Series\n",
    "\n",
    "pandas.Series( data, index, dtype, copy)"
   ]
  },
  {
   "cell_type": "code",
   "execution_count": 9,
   "id": "41bda2af",
   "metadata": {},
   "outputs": [
    {
     "name": "stdout",
     "output_type": "stream",
     "text": [
      "0     First\n",
      "1    Second\n",
      "2     Third\n",
      "3    Fourth\n",
      "4     Fifth\n",
      "dtype: object\n"
     ]
    }
   ],
   "source": [
    "l=['First', 'Second', 'Third', 'Fourth', 'Fifth']\n",
    "s=pd.Series(data=l)   # Series method is use to create the 1-D series object.\n",
    "print(s)"
   ]
  },
  {
   "cell_type": "markdown",
   "id": "77ea59a9",
   "metadata": {},
   "source": [
    "__Note__: Whenever we create Series, Dataframe, Panel, pandas automatically create label for each row which helps us to retreive the data at a faster rate. This is not a tabular data, its a single dimension series object. if nothing is pass for label, pandas consider index number as label. Here, you can see we didn't pass label, so the label of the Series are considered as the index numbers."
   ]
  },
  {
   "cell_type": "code",
   "execution_count": 7,
   "id": "9602d4e3",
   "metadata": {},
   "outputs": [
    {
     "name": "stdout",
     "output_type": "stream",
     "text": [
      "<class 'pandas.core.series.Series'>\n"
     ]
    }
   ],
   "source": [
    "print(type(s))"
   ]
  },
  {
   "cell_type": "code",
   "execution_count": 10,
   "id": "4f3f56d3",
   "metadata": {},
   "outputs": [
    {
     "name": "stdout",
     "output_type": "stream",
     "text": [
      "a     First\n",
      "b    Second\n",
      "c     Third\n",
      "d    Fourth\n",
      "e     Fifth\n",
      "dtype: object\n"
     ]
    }
   ],
   "source": [
    "# Here, we are ourself passing the index value which means the label of the series will become now \n",
    "# the index that we passed.\n",
    "s=pd.Series(data=l, index =['a','b','c','d','e'])\n",
    "print(s)"
   ]
  },
  {
   "cell_type": "code",
   "execution_count": 11,
   "id": "235a8b42",
   "metadata": {},
   "outputs": [
    {
     "name": "stdout",
     "output_type": "stream",
     "text": [
      "a    1.0\n",
      "b    2.0\n",
      "c    3.0\n",
      "d    4.0\n",
      "e    5.0\n",
      "dtype: float64\n"
     ]
    }
   ],
   "source": [
    "s=pd.Series(data=[1,2,3,4,5], index =['a','b','c','d','e'], dtype='float64')\n",
    "print(s)"
   ]
  },
  {
   "cell_type": "markdown",
   "id": "dbbaaa2e",
   "metadata": {},
   "source": [
    "Here, you can see we pass the integer type element in data argument but in the output, it displayed as float type because we set the dtype argument as 'float64'."
   ]
  },
  {
   "cell_type": "code",
   "execution_count": 12,
   "id": "4853cb5d",
   "metadata": {},
   "outputs": [],
   "source": [
    "import numpy as np"
   ]
  },
  {
   "cell_type": "code",
   "execution_count": 15,
   "id": "0b9b32c2",
   "metadata": {},
   "outputs": [
    {
     "name": "stdout",
     "output_type": "stream",
     "text": [
      "0    1\n",
      "1    2\n",
      "2    3\n",
      "3    4\n",
      "4    5\n",
      "dtype: int32\n"
     ]
    }
   ],
   "source": [
    "narr = np.array([1,2,3,4,5])\n",
    "s=pd.Series(data=narr)  # Here, we are passing a numpy array in data argument.\n",
    "print(s)"
   ]
  },
  {
   "cell_type": "code",
   "execution_count": 16,
   "id": "6e4c1835",
   "metadata": {},
   "outputs": [
    {
     "name": "stdout",
     "output_type": "stream",
     "text": [
      "a    2\n",
      "b    2\n",
      "c    2\n",
      "d    2\n",
      "e    2\n",
      "dtype: int64\n"
     ]
    }
   ],
   "source": [
    "s=pd.Series(2, index=['a','b','c','d','e'])\n",
    "print(s)"
   ]
  },
  {
   "cell_type": "markdown",
   "id": "587d76b6",
   "metadata": {},
   "source": [
    "Here, if you noticed that we passed a constant value 2 as a data and passes some index. The constant 2 display multiple time when we print the series. It depends upon the number of index that we passed. Since we 5 index value that is why the constant 2 comes 5 times.\n",
    "\n",
    "__Note__: In data argument, we can pass list, array, dictionary, constant."
   ]
  },
  {
   "cell_type": "code",
   "execution_count": 19,
   "id": "cbf3e8dd",
   "metadata": {},
   "outputs": [
    {
     "data": {
      "text/plain": [
       "0    1\n",
       "1    2\n",
       "2    3\n",
       "3    4\n",
       "4    a\n",
       "5    b\n",
       "dtype: object"
      ]
     },
     "execution_count": 19,
     "metadata": {},
     "output_type": "execute_result"
    }
   ],
   "source": [
    "s=pd.Series(data=[1,2,3,4,'a', 'b'])  # can store Heteregeneous data\n",
    "s"
   ]
  },
  {
   "cell_type": "code",
   "execution_count": 22,
   "id": "b77fc0ed",
   "metadata": {},
   "outputs": [
    {
     "name": "stdout",
     "output_type": "stream",
     "text": [
      "0    pencil\n",
      "1    eraser\n",
      "2       pen\n",
      "3    marker\n",
      "4     color\n",
      "dtype: object\n"
     ]
    }
   ],
   "source": [
    "product = ['pencil', 'eraser', 'pen', 'marker', 'color']\n",
    "s1=pd.Series(data = product)\n",
    "print(s1)"
   ]
  },
  {
   "cell_type": "markdown",
   "id": "68b44c9e",
   "metadata": {},
   "source": [
    "__NOTE__: The first letter of 'Series' word must be capital else it will raise an error."
   ]
  },
  {
   "cell_type": "code",
   "execution_count": 58,
   "id": "c5de693e",
   "metadata": {},
   "outputs": [
    {
     "name": "stdout",
     "output_type": "stream",
     "text": [
      "a    pencil\n",
      "b    eraser\n",
      "c       pen\n",
      "d    marker\n",
      "e     color\n",
      "dtype: object\n"
     ]
    }
   ],
   "source": [
    "# we can also change the index later after creating the series with the help of .index property.\n",
    "s1.index=['a','b','c','d','e']\n",
    "print(s1)"
   ]
  },
  {
   "cell_type": "code",
   "execution_count": 29,
   "id": "68d96069",
   "metadata": {},
   "outputs": [
    {
     "name": "stdout",
     "output_type": "stream",
     "text": [
      "Index(['a', 'b', 'c', 'd', 'e'], dtype='object')\n"
     ]
    }
   ],
   "source": [
    "print(s1.index)  #This will also give the index or label of the series."
   ]
  },
  {
   "cell_type": "markdown",
   "id": "535bb637",
   "metadata": {},
   "source": [
    "## Accessing value from pandas Series\n",
    "\n",
    "There are various method to access the elements from the series such as indexing, slicing, .loc and .iloc."
   ]
  },
  {
   "cell_type": "markdown",
   "id": "8989e5a7",
   "metadata": {},
   "source": [
    "## Indexing"
   ]
  },
  {
   "cell_type": "code",
   "execution_count": 51,
   "id": "f8a2af0b",
   "metadata": {},
   "outputs": [
    {
     "name": "stdout",
     "output_type": "stream",
     "text": [
      "105    pencil\n",
      "106    eraser\n",
      "107       pen\n",
      "108    marker\n",
      "109     color\n",
      "dtype: object\n"
     ]
    }
   ],
   "source": [
    "# Consider the series.\n",
    "print(s1)"
   ]
  },
  {
   "cell_type": "code",
   "execution_count": 33,
   "id": "a34f8486",
   "metadata": {},
   "outputs": [
    {
     "name": "stdout",
     "output_type": "stream",
     "text": [
      "marker\n"
     ]
    }
   ],
   "source": [
    "# Now if we want to access the product 'marker' from the series we can use it index like we did in \n",
    "# list and tuple.\n",
    "print(s1[3])  # The product marker is at 3rd index from vertical top. Indexing start from 0."
   ]
  },
  {
   "cell_type": "markdown",
   "id": "fbdeca71",
   "metadata": {},
   "source": [
    "Since the index or label of the series is not numerical which means we can access the element from the label also. The corresponding label for the prodcut 'marker' is 'd'."
   ]
  },
  {
   "cell_type": "code",
   "execution_count": 35,
   "id": "c969fd57",
   "metadata": {},
   "outputs": [
    {
     "name": "stdout",
     "output_type": "stream",
     "text": [
      "marker\n"
     ]
    }
   ],
   "source": [
    "print(s1['d'])"
   ]
  },
  {
   "cell_type": "markdown",
   "id": "674f2b4a",
   "metadata": {},
   "source": [
    "__Note__: If index or label of the series is not numerical then we have two option to access the elements, one is indexing and another is using label. But if the index or label of the series is numerical then we can have to use only label instead of index to access the element from the series."
   ]
  },
  {
   "cell_type": "code",
   "execution_count": 54,
   "id": "84b8eb0e",
   "metadata": {},
   "outputs": [
    {
     "name": "stdout",
     "output_type": "stream",
     "text": [
      "105    pencil\n",
      "106    eraser\n",
      "107       pen\n",
      "108    marker\n",
      "109     color\n",
      "dtype: object\n"
     ]
    }
   ],
   "source": [
    "product = ['pencil', 'eraser', 'pen', 'marker', 'color']\n",
    "s1=pd.Series(data = product, index=[105,106,107,108,109])\n",
    "print(s1)"
   ]
  },
  {
   "cell_type": "markdown",
   "id": "8e2acc32",
   "metadata": {},
   "source": [
    "Here you can see the label of the series is numeric which means we cannot access the element from the series using the index. This means if you use s1[0] (0 is the first index correspond to product pencil), this will given error (try at your end) but if you use s[105] (105 is the label not the index) then it will give the corresponding product which is pencil."
   ]
  },
  {
   "cell_type": "code",
   "execution_count": 39,
   "id": "5804c339",
   "metadata": {},
   "outputs": [
    {
     "data": {
      "text/plain": [
       "'pencil'"
      ]
     },
     "execution_count": 39,
     "metadata": {},
     "output_type": "execute_result"
    }
   ],
   "source": [
    "s1[105]"
   ]
  },
  {
   "cell_type": "code",
   "execution_count": 60,
   "id": "3b44e00b",
   "metadata": {},
   "outputs": [
    {
     "name": "stdout",
     "output_type": "stream",
     "text": [
      "a    pencil\n",
      "b    eraser\n",
      "c       pen\n",
      "d    marker\n",
      "e     color\n",
      "dtype: object\n"
     ]
    }
   ],
   "source": [
    "product = ['pencil', 'eraser', 'pen', 'marker', 'color']\n",
    "s1=pd.Series(data = product, index=['a','b','c','d','e'])\n",
    "print(s1)"
   ]
  },
  {
   "cell_type": "code",
   "execution_count": 61,
   "id": "f60174e5",
   "metadata": {},
   "outputs": [
    {
     "data": {
      "text/plain": [
       "'marker'"
      ]
     },
     "execution_count": 61,
     "metadata": {},
     "output_type": "execute_result"
    }
   ],
   "source": [
    "s1[-2]   # works with negative indexing as well"
   ]
  },
  {
   "cell_type": "markdown",
   "id": "8b8d14ea",
   "metadata": {},
   "source": [
    "__Note__: The index or label must be in series else will raise an error."
   ]
  },
  {
   "cell_type": "code",
   "execution_count": 67,
   "id": "c993ad42",
   "metadata": {},
   "outputs": [
    {
     "ename": "IndexError",
     "evalue": "index 8 is out of bounds for axis 0 with size 5",
     "output_type": "error",
     "traceback": [
      "\u001b[1;31m---------------------------------------------------------------------------\u001b[0m",
      "\u001b[1;31mIndexError\u001b[0m                                Traceback (most recent call last)",
      "Cell \u001b[1;32mIn[67], line 1\u001b[0m\n\u001b[1;32m----> 1\u001b[0m \u001b[43ms1\u001b[49m\u001b[43m[\u001b[49m\u001b[38;5;241;43m8\u001b[39;49m\u001b[43m]\u001b[49m\n",
      "File \u001b[1;32m~\\anaconda3\\lib\\site-packages\\pandas\\core\\series.py:978\u001b[0m, in \u001b[0;36mSeries.__getitem__\u001b[1;34m(self, key)\u001b[0m\n\u001b[0;32m    975\u001b[0m     key \u001b[38;5;241m=\u001b[39m unpack_1tuple(key)\n\u001b[0;32m    977\u001b[0m \u001b[38;5;28;01mif\u001b[39;00m is_integer(key) \u001b[38;5;129;01mand\u001b[39;00m \u001b[38;5;28mself\u001b[39m\u001b[38;5;241m.\u001b[39mindex\u001b[38;5;241m.\u001b[39m_should_fallback_to_positional:\n\u001b[1;32m--> 978\u001b[0m     \u001b[38;5;28;01mreturn\u001b[39;00m \u001b[38;5;28;43mself\u001b[39;49m\u001b[38;5;241;43m.\u001b[39;49m\u001b[43m_values\u001b[49m\u001b[43m[\u001b[49m\u001b[43mkey\u001b[49m\u001b[43m]\u001b[49m\n\u001b[0;32m    980\u001b[0m \u001b[38;5;28;01melif\u001b[39;00m key_is_scalar:\n\u001b[0;32m    981\u001b[0m     \u001b[38;5;28;01mreturn\u001b[39;00m \u001b[38;5;28mself\u001b[39m\u001b[38;5;241m.\u001b[39m_get_value(key)\n",
      "\u001b[1;31mIndexError\u001b[0m: index 8 is out of bounds for axis 0 with size 5"
     ]
    }
   ],
   "source": [
    "s1[8]"
   ]
  },
  {
   "cell_type": "markdown",
   "id": "b7be15f6",
   "metadata": {},
   "source": [
    "## Slicing\n",
    "\n",
    "We use this method to access the range of the element from the series. This is similar to list slicing, you can refer that one."
   ]
  },
  {
   "cell_type": "code",
   "execution_count": 63,
   "id": "a0d9b887",
   "metadata": {},
   "outputs": [
    {
     "name": "stdout",
     "output_type": "stream",
     "text": [
      "105    pencil\n",
      "106    eraser\n",
      "107       pen\n",
      "108    marker\n",
      "109     color\n",
      "dtype: object\n"
     ]
    }
   ],
   "source": [
    "product = ['pencil', 'eraser', 'pen', 'marker', 'color']\n",
    "s1=pd.Series(data = product, index=[105,106,107,108,109])\n",
    "print(s1)"
   ]
  },
  {
   "cell_type": "code",
   "execution_count": 42,
   "id": "654eab80",
   "metadata": {},
   "outputs": [
    {
     "data": {
      "text/plain": [
       "106    eraser\n",
       "107       pen\n",
       "dtype: object"
      ]
     },
     "execution_count": 42,
     "metadata": {},
     "output_type": "execute_result"
    }
   ],
   "source": [
    "s1[1:3] \n",
    "# while using slicing, index works which means it does not matter whether the label is numerical \n",
    "# or not. this will give all the elements from the index 1 till the index 2 as index 3 is excluded."
   ]
  },
  {
   "cell_type": "code",
   "execution_count": 43,
   "id": "83182180",
   "metadata": {},
   "outputs": [
    {
     "data": {
      "text/plain": [
       "105    pencil\n",
       "106    eraser\n",
       "107       pen\n",
       "108    marker\n",
       "dtype: object"
      ]
     },
     "execution_count": 43,
     "metadata": {},
     "output_type": "execute_result"
    }
   ],
   "source": [
    "s1[:4]"
   ]
  },
  {
   "cell_type": "code",
   "execution_count": 44,
   "id": "30ae0aa6",
   "metadata": {},
   "outputs": [
    {
     "data": {
      "text/plain": [
       "107       pen\n",
       "108    marker\n",
       "109     color\n",
       "dtype: object"
      ]
     },
     "execution_count": 44,
     "metadata": {},
     "output_type": "execute_result"
    }
   ],
   "source": [
    "s1[2:]"
   ]
  },
  {
   "cell_type": "code",
   "execution_count": 57,
   "id": "b2349599",
   "metadata": {},
   "outputs": [
    {
     "data": {
      "text/plain": [
       "108    marker\n",
       "109     color\n",
       "dtype: object"
      ]
     },
     "execution_count": 57,
     "metadata": {},
     "output_type": "execute_result"
    }
   ],
   "source": [
    "s1[-2:] #works on negative slicing as well like list"
   ]
  },
  {
   "cell_type": "code",
   "execution_count": 68,
   "id": "c1d4c909",
   "metadata": {},
   "outputs": [
    {
     "data": {
      "text/plain": [
       "b    eraser\n",
       "c       pen\n",
       "d    marker\n",
       "dtype: object"
      ]
     },
     "execution_count": 68,
     "metadata": {},
     "output_type": "execute_result"
    }
   ],
   "source": [
    "product = ['pencil', 'eraser', 'pen', 'marker', 'color']\n",
    "s1=pd.Series(data = product, index=['a','b','c','d','e'])\n",
    "s1[-4:-1]"
   ]
  },
  {
   "cell_type": "code",
   "execution_count": 65,
   "id": "e0911b8c",
   "metadata": {},
   "outputs": [
    {
     "data": {
      "text/plain": [
       "b    eraser\n",
       "d    marker\n",
       "dtype: object"
      ]
     },
     "execution_count": 65,
     "metadata": {},
     "output_type": "execute_result"
    }
   ],
   "source": [
    "s1[-4:-1:2]"
   ]
  },
  {
   "cell_type": "code",
   "execution_count": 66,
   "id": "9fa9cdef",
   "metadata": {},
   "outputs": [
    {
     "data": {
      "text/plain": [
       "a    pencil\n",
       "c       pen\n",
       "e     color\n",
       "dtype: object"
      ]
     },
     "execution_count": 66,
     "metadata": {},
     "output_type": "execute_result"
    }
   ],
   "source": [
    "s1[::2]"
   ]
  },
  {
   "cell_type": "markdown",
   "id": "953ae624",
   "metadata": {},
   "source": [
    "## .loc method to access the element\n",
    "\n",
    "This method takes the label value not the __index__ to access the element."
   ]
  },
  {
   "cell_type": "code",
   "execution_count": 72,
   "id": "05449889",
   "metadata": {},
   "outputs": [
    {
     "data": {
      "text/plain": [
       "'eraser'"
      ]
     },
     "execution_count": 72,
     "metadata": {},
     "output_type": "execute_result"
    }
   ],
   "source": [
    "s1.loc['b']"
   ]
  },
  {
   "cell_type": "code",
   "execution_count": 73,
   "id": "7756c590",
   "metadata": {},
   "outputs": [
    {
     "name": "stdout",
     "output_type": "stream",
     "text": [
      "105    pencil\n",
      "106    eraser\n",
      "107       pen\n",
      "108    marker\n",
      "109     color\n",
      "dtype: object\n"
     ]
    }
   ],
   "source": [
    "product = ['pencil', 'eraser', 'pen', 'marker', 'color']\n",
    "s1=pd.Series(data = product, index=[105,106,107,108,109])\n",
    "print(s1)"
   ]
  },
  {
   "cell_type": "code",
   "execution_count": 74,
   "id": "0a6c2c3e",
   "metadata": {},
   "outputs": [
    {
     "data": {
      "text/plain": [
       "'pencil'"
      ]
     },
     "execution_count": 74,
     "metadata": {},
     "output_type": "execute_result"
    }
   ],
   "source": [
    "s1.loc[105]"
   ]
  },
  {
   "cell_type": "markdown",
   "id": "da64fda0",
   "metadata": {},
   "source": [
    "## .iloc method to access the element.\n",
    "\n",
    "This method takes the index not the __label__ value to access the element."
   ]
  },
  {
   "cell_type": "code",
   "execution_count": 75,
   "id": "22563285",
   "metadata": {},
   "outputs": [
    {
     "data": {
      "text/plain": [
       "'pen'"
      ]
     },
     "execution_count": 75,
     "metadata": {},
     "output_type": "execute_result"
    }
   ],
   "source": [
    "product = ['pencil', 'eraser', 'pen', 'marker', 'color']\n",
    "s1=pd.Series(data = product, index=['a','b','c','d','e'])\n",
    "s1.iloc[2]"
   ]
  },
  {
   "cell_type": "code",
   "execution_count": 81,
   "id": "3fbf47f6",
   "metadata": {},
   "outputs": [
    {
     "data": {
      "text/plain": [
       "'color'"
      ]
     },
     "execution_count": 81,
     "metadata": {},
     "output_type": "execute_result"
    }
   ],
   "source": [
    "s1.iloc[4]"
   ]
  },
  {
   "cell_type": "code",
   "execution_count": 82,
   "id": "09af6242",
   "metadata": {},
   "outputs": [
    {
     "data": {
      "text/plain": [
       "'marker'"
      ]
     },
     "execution_count": 82,
     "metadata": {},
     "output_type": "execute_result"
    }
   ],
   "source": [
    "product = ['pencil', 'eraser', 'pen', 'marker', 'color']\n",
    "s1=pd.Series(data = product, index=[105,106,107,108,109])\n",
    "s1.iloc[3]"
   ]
  },
  {
   "cell_type": "markdown",
   "id": "78fce713",
   "metadata": {},
   "source": [
    "## Update value in the series."
   ]
  },
  {
   "cell_type": "code",
   "execution_count": 84,
   "id": "8769f25d",
   "metadata": {},
   "outputs": [
    {
     "name": "stdout",
     "output_type": "stream",
     "text": [
      "a    pencil\n",
      "b    eraser\n",
      "c       pen\n",
      "d    marker\n",
      "e     color\n",
      "dtype: object\n"
     ]
    }
   ],
   "source": [
    "product = ['pencil', 'eraser', 'pen', 'marker', 'color']\n",
    "s1=pd.Series(data = product, index=['a','b','c','d','e'])\n",
    "print(s1)"
   ]
  },
  {
   "cell_type": "code",
   "execution_count": 85,
   "id": "2a24b90e",
   "metadata": {},
   "outputs": [],
   "source": [
    "# Now, if we want to change the product 'pen' to 'inkpen' we can do it simply by any method\n",
    "# listed above.\n",
    "s1[2]='inkpen'"
   ]
  },
  {
   "cell_type": "code",
   "execution_count": 86,
   "id": "608c3829",
   "metadata": {},
   "outputs": [
    {
     "name": "stdout",
     "output_type": "stream",
     "text": [
      "a    pencil\n",
      "b    eraser\n",
      "c    inkpen\n",
      "d    marker\n",
      "e     color\n",
      "dtype: object\n"
     ]
    }
   ],
   "source": [
    "print(s1)  \n",
    "# See the product change from pen to inkpen."
   ]
  },
  {
   "cell_type": "code",
   "execution_count": 88,
   "id": "a3f938fa",
   "metadata": {},
   "outputs": [],
   "source": [
    "s1.loc['d']='black marker'"
   ]
  },
  {
   "cell_type": "code",
   "execution_count": 89,
   "id": "f744c4e6",
   "metadata": {},
   "outputs": [
    {
     "name": "stdout",
     "output_type": "stream",
     "text": [
      "a          pencil\n",
      "b          eraser\n",
      "c          inkpen\n",
      "d    black marker\n",
      "e           color\n",
      "dtype: object\n"
     ]
    }
   ],
   "source": [
    "print(s1)  \n",
    "# See the product change from marker to black marker."
   ]
  },
  {
   "cell_type": "code",
   "execution_count": 90,
   "id": "4ee561d4",
   "metadata": {},
   "outputs": [],
   "source": [
    "s1[2:4]=2"
   ]
  },
  {
   "cell_type": "code",
   "execution_count": 91,
   "id": "cf5dc929",
   "metadata": {},
   "outputs": [
    {
     "name": "stdout",
     "output_type": "stream",
     "text": [
      "a    pencil\n",
      "b    eraser\n",
      "c         2\n",
      "d         2\n",
      "e     color\n",
      "dtype: object\n"
     ]
    }
   ],
   "source": [
    "print(s1)  \n",
    "# See the product change from pen to inkpen."
   ]
  },
  {
   "cell_type": "code",
   "execution_count": null,
   "id": "7a2bb116",
   "metadata": {},
   "outputs": [],
   "source": []
  }
 ],
 "metadata": {
  "kernelspec": {
   "display_name": "Python 3 (ipykernel)",
   "language": "python",
   "name": "python3"
  },
  "language_info": {
   "codemirror_mode": {
    "name": "ipython",
    "version": 3
   },
   "file_extension": ".py",
   "mimetype": "text/x-python",
   "name": "python",
   "nbconvert_exporter": "python",
   "pygments_lexer": "ipython3",
   "version": "3.10.9"
  }
 },
 "nbformat": 4,
 "nbformat_minor": 5
}
